{
  "nbformat": 4,
  "nbformat_minor": 0,
  "metadata": {
    "colab": {
      "provenance": []
    },
    "kernelspec": {
      "name": "python3",
      "display_name": "Python 3"
    },
    "language_info": {
      "name": "python"
    }
  },
  "cells": [
    {
      "cell_type": "markdown",
      "source": [
        "<h1>Data Science Tools and Ecosystem</h1>"
      ],
      "metadata": {
        "id": "9cif5mgkbt-Q"
      }
    },
    {
      "cell_type": "markdown",
      "source": [
        "In this notebook, Data Science Tools and Ecosystem are summarized."
      ],
      "metadata": {
        "id": "0ozAp1Zp6PmB"
      }
    },
    {
      "cell_type": "markdown",
      "source": [
        "**Objectives:**\n",
        "\n",
        "- List popular languages for Data Science.\n",
        "- Understand the basics of Jupyter Notebook and its functionalities.\n",
        "- Learn about open-source tools commonly used in Data Science.\n",
        "- Explore different libraries and frameworks for data analysis and visualization.\n",
        "- Gain hands-on experience in writing and executing Python code within a notebook.\n"
      ],
      "metadata": {
        "id": "_uD0R01yFP5u"
      }
    },
    {
      "cell_type": "markdown",
      "source": [
        "Some of the popular languages that Data Scientists use are:\n",
        "\n",
        "<ol>\n",
        "        <li>Python</li>\n",
        "        <li>R</li>\n",
        "        <li>SQL</li>\n",
        "        <li>Julia</li>\n",
        "        <li>Scala</li>\n",
        "    </ol>\n"
      ],
      "metadata": {
        "id": "j9JEowVk7I9S"
      }
    },
    {
      "cell_type": "markdown",
      "source": [
        "Some of the commonly used libraries used by Data Scientists include:\n",
        "\n",
        "1. Pandas\n",
        "2. NumPy\n",
        "3. Scikit-learn\n",
        "4. TensorFlow\n",
        "5. Matplotlib\n"
      ],
      "metadata": {
        "id": "mpqLY9vr7-RL"
      }
    },
    {
      "cell_type": "markdown",
      "source": [
        " <p>Some of the commonly used development environment tools in data science:</p>\n",
        "    <table border=\"1\">\n",
        "        <tr>\n",
        "            <th>Data Science Tools</th>\n",
        "        </tr>\n",
        "        <tr>\n",
        "            <td>Jupyter Notebook</td>\n",
        "        </tr>\n",
        "        <tr>\n",
        "            <td>RStudio</td>\n",
        "        </tr>\n",
        "        <tr>\n",
        "            <td>Apache Zeppelin</td>\n",
        "        </tr>\n",
        "    </table>"
      ],
      "metadata": {
        "id": "-uH62zkY9nzH"
      }
    },
    {
      "cell_type": "markdown",
      "source": [
        "<h3>Below are a few examples of evaluating arithmetic expressions in Python.</h3>\n"
      ],
      "metadata": {
        "id": "od5Dh0PV-NEi"
      }
    },
    {
      "cell_type": "code",
      "source": [
        "# This is a simple arithmetic expression to multiply then add integers\n",
        "result = (3 * 4) + 5\n",
        "print(result)  https://drive.google.com/drive/search?q=owner%3Ame%20(type%3Aapplication%2Fvnd.google.colaboratory%20%7C%7C%20type%3Aapplication%2Fvnd.google.colab)&authuser=0"
      ],
      "metadata": {
        "colab": {
          "base_uri": "https://localhost:8080/"
        },
        "id": "T0oztNP3-5OA",
        "outputId": "93e17e66-0dec-44f2-c1c2-09cc3da4751f"
      },
      "execution_count": 3,
      "outputs": [
        {
          "output_type": "stream",
          "name": "stdout",
          "text": [
            "17\n"
          ]
        }
      ]
    },
    {
      "cell_type": "code",
      "source": [
        "# This will convert 200 minutes to hours by dividing by 60\n",
        "hours = 200 / 60\n",
        "print(hours)\n"
      ],
      "metadata": {
        "colab": {
          "base_uri": "https://localhost:8080/"
        },
        "id": "CT_n8ksK-7or",
        "outputId": "7574d00d-7721-4cdd-a8cf-7578ff1d792f"
      },
      "execution_count": 4,
      "outputs": [
        {
          "output_type": "stream",
          "name": "stdout",
          "text": [
            "3.3333333333333335\n"
          ]
        }
      ]
    },
    {
      "cell_type": "markdown",
      "source": [
        "## Author\n",
        "\n",
        "Ushan"
      ],
      "metadata": {
        "id": "GIE4htHKGRXu"
      }
    }
  ]
}